{
 "cells": [
  {
   "cell_type": "markdown",
   "metadata": {},
   "source": [
    "# DCM on SUPPORT Dataset\n",
    "\n",
    "The SUPPORT dataset comes from the Vanderbilt University study to estimate survival for seriously ill hospitalized adults. (Refer to http://biostat.mc.vanderbilt.edu/wiki/Main/SupportDesc. for the original datasource.)\n",
    "\n",
    "In this notebook, we will apply Deep Cox Mixtures for survival prediction on the SUPPORT data.\n",
    "\n"
   ]
  },
  {
   "cell_type": "code",
   "execution_count": 1,
   "metadata": {},
   "outputs": [],
   "source": [
    "from dcm import dcm_tf as dcm"
   ]
  },
  {
   "cell_type": "markdown",
   "metadata": {},
   "source": [
    "### Load the SUPPORT Dataset\n",
    "\n",
    "The package includes helper functions to load the dataset.\n",
    "\n",
    "X represents an np.array of features (covariates), T is the event/censoring times and, E is the censoring indicator. \n",
    "\n"
   ]
  },
  {
   "cell_type": "code",
   "execution_count": 2,
   "metadata": {},
   "outputs": [
    {
     "name": "stdout",
     "output_type": "stream",
     "text": [
      "[ 14.  58. 252.]\n"
     ]
    }
   ],
   "source": [
    "dataset = 'SUPPORT'\n",
    "cv_folds = 5\n",
    "prot_att = 'race'\n",
    "fair_strategy = None\n",
    "quantiles = [0.25, 0.5, 0.75]\n",
    "\n",
    "from dcm.deep_cox_mixture import load_dataset\n",
    "(x, t, e, a), folds, times = load_dataset(dataset, cv_folds, prot_att, fair_strategy, quantiles)\n",
    "\n",
    "x = x.astype('float32')\n",
    "t = t.astype('float32')"
   ]
  },
  {
   "cell_type": "markdown",
   "metadata": {},
   "source": [
    "### Splitting the data into train, test and validation sets\n",
    "We will train DSM on 70% of the Data, use a Validation set of 10% for Model Selection and report performance on the remaining 20% held out test set.\n",
    "\n"
   ]
  },
  {
   "cell_type": "code",
   "execution_count": 4,
   "metadata": {},
   "outputs": [],
   "source": [
    "n = len(x)\n",
    "\n",
    "tr_size = int(n*0.70)\n",
    "vl_size = int(n*0.10)\n",
    "te_size = int(n*0.20)\n",
    "\n",
    "x_train, x_test, x_val = x[:tr_size], x[-te_size:], x[tr_size:tr_size+vl_size]\n",
    "t_train, t_test, t_val = t[:tr_size], t[-te_size:], t[tr_size:tr_size+vl_size]\n",
    "e_train, e_test, e_val = e[:tr_size], e[-te_size:], e[tr_size:tr_size+vl_size]\n"
   ]
  },
  {
   "cell_type": "markdown",
   "metadata": {},
   "source": [
    "# Setting up DCM\n",
    "\n",
    "In the subsequent cell, we will instantiate a class of the `Deep Cox Mixture` model with `k` latent groups and a hidden representation of size of `100`."
   ]
  },
  {
   "cell_type": "code",
   "execution_count": 6,
   "metadata": {},
   "outputs": [
    {
     "name": "stderr",
     "output_type": "stream",
     "text": [
      "\r",
      "  0%|          | 0/50 [00:00<?, ?it/s]"
     ]
    },
    {
     "name": "stdout",
     "output_type": "stream",
     "text": [
      "WARNING:tensorflow:From /zfsauton3/home/chiragn/anaconda3/lib/python3.7/site-packages/tensorflow_core/python/ops/array_grad.py:502: _EagerTensorBase.cpu (from tensorflow.python.framework.ops) is deprecated and will be removed in a future version.\n",
      "Instructions for updating:\n",
      "Use tf.identity instead.\n"
     ]
    },
    {
     "name": "stderr",
     "output_type": "stream",
     "text": [
      "WARNING:tensorflow:From /zfsauton3/home/chiragn/anaconda3/lib/python3.7/site-packages/tensorflow_core/python/ops/array_grad.py:502: _EagerTensorBase.cpu (from tensorflow.python.framework.ops) is deprecated and will be removed in a future version.\n",
      "Instructions for updating:\n",
      "Use tf.identity instead.\n",
      " 24%|██▍       | 12/50 [01:32<04:52,  7.71s/it]\n"
     ]
    }
   ],
   "source": [
    "k = 3\n",
    "h = 100\n",
    "\n",
    "model = dcm.DeepCoxMixture(k, h)\n",
    "\n",
    "# We `train` the model for 50 epochs, \n",
    "# with a learning rate of 1e-3,\n",
    "# a batch size of 128 using the Adam optimizer.\n",
    "model, losses = dcm.train(model, \n",
    "                  x_train, t_train, e_train, \n",
    "                  x_val, t_val, e_val, \n",
    "                  epochs=50, lr=1e-3, bs=128, \n",
    "                  use_posteriors=False,\n",
    "                  random_state=0,\n",
    "                  return_losses=True,\n",
    "                  patience=3)            "
   ]
  },
  {
   "cell_type": "markdown",
   "metadata": {},
   "source": [
    "### Inference\n",
    "\n",
    "We will infer the survival probability at the quantiles and compute the\n",
    "metrics of interest."
   ]
  },
  {
   "cell_type": "code",
   "execution_count": 8,
   "metadata": {},
   "outputs": [],
   "source": [
    "scores = []\n",
    "\n",
    "for time in times:\n",
    "  score = dcm.predict_scores(model, x_test, time)\n",
    "  scores.append(score)"
   ]
  },
  {
   "cell_type": "markdown",
   "metadata": {},
   "source": [
    "### Evaluation\n",
    "We evaluate the performance of DCM in its discriminative ability (Time Dependent Concordance Index and Cumulative Dynamic AUC) as well as Brier Score.\n",
    "\n"
   ]
  },
  {
   "cell_type": "code",
   "execution_count": 9,
   "metadata": {},
   "outputs": [],
   "source": [
    "from sksurv.metrics import concordance_index_ipcw, brier_score, cumulative_dynamic_auc\n",
    "import numpy as np"
   ]
  },
  {
   "cell_type": "code",
   "execution_count": 10,
   "metadata": {},
   "outputs": [
    {
     "name": "stdout",
     "output_type": "stream",
     "text": [
      "For 0.25 quantile,\n",
      "TD Concordance Index: 0.7520614957873781\n",
      "Brier Score: 0.11212868183423812\n",
      "ROC AUC  0.765349191348927 \n",
      "\n",
      "For 0.5 quantile,\n",
      "TD Concordance Index: 0.6922947029009802\n",
      "Brier Score: 0.18631449361069802\n",
      "ROC AUC  0.7133208535470716 \n",
      "\n",
      "For 0.75 quantile,\n",
      "TD Concordance Index: 0.6456472732261447\n",
      "Brier Score: 0.22704216985933723\n",
      "ROC AUC  0.6875228690858425 \n",
      "\n"
     ]
    }
   ],
   "source": [
    "cis = []\n",
    "brs = []\n",
    "\n",
    "et_train = np.array([(e_train[i], t_train[i]) for i in range(len(e_train))],\n",
    "                 dtype = [('e', bool), ('t', float)])\n",
    "et_test = np.array([(e_test[i], t_test[i]) for i in range(len(e_test))],\n",
    "                 dtype = [('e', bool), ('t', float)])\n",
    "et_val = np.array([(e_val[i], t_val[i]) for i in range(len(e_val))],\n",
    "                 dtype = [('e', bool), ('t', float)])\n",
    "\n",
    "for i, _ in enumerate(times):\n",
    "    cis.append(concordance_index_ipcw(et_train, et_test, 1-scores[i], times[i])[0])\n",
    "    \n",
    "\n",
    "for i, _ in enumerate(times):\n",
    "    brs.append(float(brier_score(et_train, et_test, scores[i], times[i])[1]))\n",
    "    \n",
    "roc_auc = []\n",
    "for i, _ in enumerate(times):\n",
    "    roc_auc.append(cumulative_dynamic_auc(et_train, et_test, 1-scores[i], times[i])[0])\n",
    "for quantile in enumerate(quantiles):\n",
    "    print(f\"For {quantile[1]} quantile,\")\n",
    "    print(\"TD Concordance Index:\", cis[quantile[0]])\n",
    "    print(\"Brier Score:\", brs[quantile[0]])\n",
    "    print(\"ROC AUC \", roc_auc[quantile[0]][0], \"\\n\")"
   ]
  },
  {
   "cell_type": "markdown",
   "metadata": {},
   "source": [
    "# Plotting Baseline Splines\n",
    "\n",
    "Here we plot the estimated baseline survival rates for the latent groups."
   ]
  },
  {
   "cell_type": "code",
   "execution_count": 11,
   "metadata": {},
   "outputs": [
    {
     "data": {
      "image/png": "[encoded data removed]",
      "text/plain": [
       "<Figure size 432x288 with 1 Axes>"
      ]
     },
     "metadata": {
      "needs_background": "light"
     },
     "output_type": "display_data"
    }
   ],
   "source": [
    "from matplotlib import pyplot as plt\n",
    "import numpy as np\n",
    "\n",
    "ts = np.unique(t)\n",
    "\n",
    "splines = model[1]\n",
    "\n",
    "for spline in splines:\n",
    "  plt.plot(splines[spline](ts))\n",
    "plt.show()"
   ]
  },
  {
   "cell_type": "code",
   "execution_count": null,
   "metadata": {},
   "outputs": [],
   "source": []
  }
 ],
 "metadata": {
  "kernelspec": {
   "display_name": "Python 3.7.7 64-bit ('base': conda)",
   "language": "python",
   "name": "python377jvsc74a57bd0bdb85cafa8c302641e776f63acb1aaa46c1e7894a0d63d070f5d9914972b46d0"
  },
  "language_info": {
   "codemirror_mode": {
    "name": "ipython",
    "version": 3
   },
   "file_extension": ".py",
   "mimetype": "text/x-python",
   "name": "python",
   "nbconvert_exporter": "python",
   "pygments_lexer": "ipython3",
   "version": "3.7.7"
  }
 },
 "nbformat": 4,
 "nbformat_minor": 4
}
